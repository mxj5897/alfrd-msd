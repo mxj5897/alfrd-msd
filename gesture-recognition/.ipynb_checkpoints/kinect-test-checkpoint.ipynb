{
 "cells": [
  {
   "cell_type": "markdown",
   "metadata": {},
   "source": [
    "# Kinect Integration Test\n",
    "\n",
    "\n",
    "See openKinect Wiki for instructions on how to set-up kinect v1. To check if all necessary requirements have been installed run the below script. [Requires Kinect]"
   ]
  },
  {
   "cell_type": "code",
   "execution_count": null,
   "metadata": {},
   "outputs": [],
   "source": [
    "import freenect\n",
    "import cv2\n",
    "import frame_convert2"
   ]
  },
  {
   "cell_type": "code",
   "execution_count": null,
   "metadata": {},
   "outputs": [],
   "source": [
    "cv2.namedWindow('Depth')\n",
    "cv2.namedWindow('Video')\n",
    "\n",
    "print('Press ESC in window to stop')\n",
    "\n",
    "def get_depth():\n",
    "    return frame_convert2.pretty_depth_cv(freenect.sync_get_depth()[0])\n",
    "def get_video():\n",
    "    return frame_convert2.video_cv(freenect.sync_get_video()[0])\n",
    "\n",
    "continue_flag = True\n",
    "\n",
    "while continue_flag:\n",
    "    cv2.imshow('Depth', get_depth())\n",
    "    cv2.imshow('Video', get_video())\n",
    "    if cv2.waitKey(10) == 27:\n",
    "        continue_flag = False\n",
    "        \n",
    "cv2.destroyAllWindows()"
   ]
  },
  {
   "cell_type": "code",
   "execution_count": null,
   "metadata": {},
   "outputs": [],
   "source": []
  }
 ],
 "metadata": {
  "kernelspec": {
   "display_name": "Python 3",
   "language": "python",
   "name": "python3"
  },
  "language_info": {
   "codemirror_mode": {
    "name": "ipython",
    "version": 3
   },
   "file_extension": ".py",
   "mimetype": "text/x-python",
   "name": "python",
   "nbconvert_exporter": "python",
   "pygments_lexer": "ipython3",
   "version": "3.6.8"
  }
 },
 "nbformat": 4,
 "nbformat_minor": 2
}
