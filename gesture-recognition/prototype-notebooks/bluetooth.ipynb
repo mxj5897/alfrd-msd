{
 "cells": [
  {
   "cell_type": "markdown",
   "metadata": {},
   "source": [
    "# Bluetooth\n",
    "\n",
    "Basics of bluetooth connectivity between phone and compute station. For completeness, should make sure that once connection is established, data can be sent from one device to another. However, we are not continuing with this route for other reasons, so focusing efforts elsewhere"
   ]
  },
  {
   "cell_type": "code",
   "execution_count": null,
   "metadata": {},
   "outputs": [],
   "source": [
    "# Print bluetooth devices\n",
    "\n",
    "# Phone should be in pairing mode to register with system\n",
    "\n",
    "print(\"Searching for bluetooth devices ...\")\n",
    "\n",
    "nearby_devices = discover_devices(lookup_names=True)\n",
    "\n",
    "print(\"Found %d devices\" % len(nearby_devices))\n",
    "\n",
    "for name, addr in nearby_devices:\n",
    "    print(\"%s - %s\" %(addr, name))"
   ]
  }
 ],
 "metadata": {
  "kernelspec": {
   "display_name": "gesture-recognition",
   "language": "python",
   "name": "gesture-recognition"
  },
  "language_info": {
   "codemirror_mode": {
    "name": "ipython",
    "version": 3
   },
   "file_extension": ".py",
   "mimetype": "text/x-python",
   "name": "python",
   "nbconvert_exporter": "python",
   "pygments_lexer": "ipython3",
   "version": "3.6.8"
  }
 },
 "nbformat": 4,
 "nbformat_minor": 2
}
