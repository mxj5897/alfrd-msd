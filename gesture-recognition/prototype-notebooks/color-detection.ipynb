{
 "cells": [
  {
   "cell_type": "markdown",
   "metadata": {},
   "source": [
    "# Color Detection / Skin Color Detection\n",
    "\n",
    "This is the code for skin color detection and generic color detection.\n",
    "First valid color ranges were found using histograms and facial images of different skin tones. A default range of [0,48,80] to [20,255,255] was for the hsv color space. However this range was found to perform poorly on a variety of skin tones."
   ]
  },
  {
   "cell_type": "code",
   "execution_count": 2,
   "metadata": {},
   "outputs": [],
   "source": [
    "import cv2\n",
    "import numpy as np\n",
    "from matplotlib import pyplot as plt"
   ]
  },
  {
   "cell_type": "markdown",
   "metadata": {},
   "source": [
    "### Color Ranges\n",
    "\n",
    "Given an input image display histogram of different color values\n",
    "The image path with need to be changed for new users"
   ]
  },
  {
   "cell_type": "code",
   "execution_count": null,
   "metadata": {},
   "outputs": [],
   "source": [
    "# Change the image path\n",
    "img = cv2.imread('dataset/Mike/mike_image_sample.jpg')\n",
    "ycbcr_img = cv2.cvtColor(img, cv2.COLOR_BGR2YCR_CB)\n",
    "hsv_img = cv2.cvtColor(img, cv2.COLOR_BGR2HSV)\n",
    "\n",
    "y = ycbcr_img[:,:,0]\n",
    "cr = ycbcr_img[:,:,1]\n",
    "cb = ycbcr_img[:,:,2]\n",
    "h = hsv_img[:,:,0]\n",
    "s = hsv_img[:,:,1]\n",
    "v = hsv_img[:,:,2]\n",
    "hist_y = cv2.calcHist([y],[0],None,[256],[0,256])\n",
    "hist_cr = cv2.calcHist([cr],[0],None,[256],[0,256])\n",
    "hist_cb = cv2.calcHist([cb],[0],None,[256],[0,256])\n",
    "hist_h = cv2.calcHist([h],[0],None,[256],[0,256])\n",
    "hist_s = cv2.calcHist([s],[0],None,[256],[0,256])\n",
    "hist_v = cv2.calcHist([v],[0],None,[256],[0,256])\n",
    "\n",
    "#cv2.imshow(\"fig 1\",y)\n",
    "#cv2.waitKey(0)\n",
    "\n",
    "plt.subplot(321), plt.plot(hist_y)\n",
    "plt.subplot(323), plt.plot(hist_cr)\n",
    "plt.subplot(325), plt.plot(hist_cb)\n",
    "plt.subplot(322), plt.plot(hist_h)\n",
    "plt.subplot(324), plt.plot(hist_s)\n",
    "plt.subplot(326), plt.plot(hist_v)\n",
    "\n",
    "print(\"Y; Cr; Cb | H; S; V\")\n",
    "plt.show()\n",
    "#cv2.destroyAllWindows()"
   ]
  },
  {
   "cell_type": "markdown",
   "metadata": {},
   "source": [
    "### Main Loop"
   ]
  },
  {
   "cell_type": "code",
   "execution_count": null,
   "metadata": {},
   "outputs": [],
   "source": [
    "cap = cv2.VideoCapture(0)\n",
    "\n",
    "# Thresholds skin color - hsv (H, S, V)\n",
    "#lower_bounds = np.array([0,30,100], dtype=\"uint8\")\n",
    "#upper_bounds = np.array([255,100,150], dtype=\"uint8\")\n",
    "   \n",
    "# Thresholds for basic color detection\n",
    "lower_bounds = np.array([30,150,50], dtype=\"uint8\")\n",
    "upper_bounds = np.array([255,255,180], dtype=\"uint8\")\n",
    "\n",
    "print('Press <q> to quit')\n",
    "    \n",
    "while(True):\n",
    "    ret, frame = cap.read()\n",
    "    \n",
    "    \n",
    "    # Optionally convert to YCbCr here\n",
    "    hsv = cv2.cvtColor(frame, cv2.COLOR_BGR2HSV)\n",
    "    \n",
    "    mask = cv2.inRange(hsv, lower_bounds, upper_bounds)\n",
    "    \n",
    "    # Optional additional image processing algorithms, these should\n",
    "    # reduce the overall noise in the image.\n",
    "    \n",
    "    #kernel = cv2.getStructuringElement(cv2.MORPH_ELLIPSE, (11,11))\n",
    "    #mask = cv2.erode(skinMask, kernel, iterations=1)\n",
    "    #mask = cv2.dilate(skinMask, kernel, iterations=1)\n",
    "    #mask = cv2.GaussianBlur(skinMask, (3,3), 0)\n",
    "    \n",
    "    res = cv2.bitwise_and(frame, frame, mask=mask)\n",
    "    \n",
    "    cv2.imshow(\"img\", frame)\n",
    "    cv2.imshow(\"mask\", mask)\n",
    "    cv2.imshow(\"res\", res)\n",
    "    \n",
    "    if cv2.waitKey(1) & 0xFF == ord('q'):\n",
    "        break\n",
    "        \n",
    "cap.release()\n",
    "cv2.destroyAllWindows()"
   ]
  }
 ],
 "metadata": {
  "kernelspec": {
   "display_name": "gesture-recognition",
   "language": "python",
   "name": "gesture-recognition"
  },
  "language_info": {
   "codemirror_mode": {
    "name": "ipython",
    "version": 3
   },
   "file_extension": ".py",
   "mimetype": "text/x-python",
   "name": "python",
   "nbconvert_exporter": "python",
   "pygments_lexer": "ipython3",
   "version": "3.6.8"
  }
 },
 "nbformat": 4,
 "nbformat_minor": 2
}
